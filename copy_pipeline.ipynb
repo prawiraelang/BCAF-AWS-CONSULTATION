{
 "cells": [
  {
   "cell_type": "code",
   "execution_count": null,
   "metadata": {},
   "outputs": [],
   "source": [
    "MODEL_TYPE = \"<NEW MODEL TYPE, E.G., Suzuki, Honda, Mitsubishi (IN TITLE CASE)>\"\n",
    "!cp -av Template_Pipeline $MODEL_TYPE\"_Pipeline\""
   ]
  }
 ],
 "metadata": {
  "language_info": {
   "name": "python"
  },
  "orig_nbformat": 4
 },
 "nbformat": 4,
 "nbformat_minor": 2
}
