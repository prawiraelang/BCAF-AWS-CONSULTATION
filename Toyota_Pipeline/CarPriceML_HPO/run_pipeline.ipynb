{
 "cells": [
  {
   "cell_type": "code",
   "execution_count": null,
   "metadata": {},
   "outputs": [],
   "source": [
    "import boto3\n",
    "import sagemaker\n",
    "\n",
    "region = boto3.Session().region_name\n",
    "role = sagemaker.get_execution_role()\n",
    "\n",
    "pipeline_name = f\"GLAIR-BCAF-Consultation-HPO-Toyota\" # Change these to reflect your project/business name"
   ]
  },
  {
   "cell_type": "code",
   "execution_count": null,
   "metadata": {},
   "outputs": [],
   "source": [
    "from pipeline import get_pipeline\n",
    "\n",
    "pipeline = get_pipeline(\n",
    "    region=region,\n",
    "    role=role,\n",
    "    pipeline_name=pipeline_name\n",
    ")"
   ]
  },
  {
   "cell_type": "code",
   "execution_count": null,
   "metadata": {},
   "outputs": [],
   "source": [
    "pipeline.upsert(role_arn=role)"
   ]
  },
  {
   "cell_type": "code",
   "execution_count": null,
   "metadata": {},
   "outputs": [],
   "source": [
    "s3_singapore = boto3.client(\"s3\", region_name=\"ap-southeast-1\")\n",
    "\n",
    "def get_latest_file(bucket_name, prefix_name):\n",
    "    s3_uri_response = s3_singapore.list_objects_v2(Bucket=bucket_name, Prefix=prefix_name)\n",
    "    csv_keys = [obj for obj in s3_uri_response.get(\"Contents\", []) if obj[\"Key\"].endswith(\".csv\")]\n",
    "    latest_csv_key = sorted(csv_keys, key=lambda x: x[\"LastModified\"], reverse=True)[0][\"Key\"]\n",
    "    \n",
    "    return f\"s3://{bucket_name}/{latest_csv_key}\"\n",
    "    \n",
    "s3_uri_lelang = get_latest_file(\n",
    "    \"glair-exploration-sagemaker-s3-bucket-singapore\",\n",
    "    \"glair-bcaf-consultation-input/training/toyota/lelang\"\n",
    ")\n",
    "\n",
    "s3_uri_crawling = get_latest_file(\n",
    "    \"glair-exploration-sagemaker-s3-bucket-singapore\",\n",
    "    \"glair-bcaf-consultation-input/training/toyota/crawling\"\n",
    ")"
   ]
  },
  {
   "cell_type": "code",
   "execution_count": null,
   "metadata": {},
   "outputs": [],
   "source": [
    "print(f\"The latest file for lelang data is located at '{s3_uri_lelang}'\")"
   ]
  },
  {
   "cell_type": "code",
   "execution_count": null,
   "metadata": {},
   "outputs": [],
   "source": [
    "print(f\"The latest file for crawling data is located at '{s3_uri_crawling}'\")"
   ]
  },
  {
   "cell_type": "code",
   "execution_count": null,
   "metadata": {},
   "outputs": [],
   "source": [
    "execution = pipeline.start(\n",
    "    parameters=dict(\n",
    "        ProcessingInstanceType=\"ml.m5.large\",\n",
    "        ProcessingInstanceCount=\"1\",\n",
    "        TrainingInstanceType=\"ml.m5.large\",\n",
    "        TrainingInstanceCount=\"1\",\n",
    "        InputDataLelangURI=s3_uri_lelang,\n",
    "        InputDataCrawlingURI=s3_uri_crawling\n",
    "    )\n",
    ")"
   ]
  },
  {
   "cell_type": "code",
   "execution_count": null,
   "metadata": {},
   "outputs": [],
   "source": [
    "execution.describe()"
   ]
  }
 ],
 "metadata": {
  "language_info": {
   "name": "python"
  },
  "orig_nbformat": 4
 },
 "nbformat": 4,
 "nbformat_minor": 2
}
