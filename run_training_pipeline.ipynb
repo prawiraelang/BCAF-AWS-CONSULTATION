{
 "cells": [
  {
   "cell_type": "code",
   "execution_count": null,
   "metadata": {},
   "outputs": [],
   "source": [
    "import boto3\n",
    "import sagemaker\n",
    "\n",
    "\n",
    "region = boto3.Session().region_name\n",
    "role = sagemaker.get_execution_role()\n",
    "\n",
    "model_package_group_name = f\"BCAF-TrialModelPackageGroup\" # Ganti sesuai kebutuhan, nama hanya untuk membedakan atau boleh menggunakan nama yang sebelumnya\n",
    "pipeline_name = f\"BCAF-TrialPipeline\" # Ganti sesuai kebutuhan, nama hanya untuk membedakan atau boleh menggunakan nama yang sebelumnya"
   ]
  },
  {
   "cell_type": "code",
   "execution_count": null,
   "metadata": {},
   "outputs": [],
   "source": [
    "# Ganti Training_CarPriceML2023 dengan nama folder untuk training\n",
    "from pipelines.Training_CarPriceML2023.pipeline import get_pipeline\n",
    "\n",
    "\n",
    "pipeline = get_pipeline(\n",
    "    region=region,\n",
    "    role=role,\n",
    "    model_package_group_name=model_package_group_name,\n",
    "    pipeline_name=pipeline_name\n",
    ")"
   ]
  },
  {
   "cell_type": "code",
   "execution_count": null,
   "metadata": {},
   "outputs": [],
   "source": [
    "pipeline.upsert(role_arn=role)"
   ]
  },
  {
   "cell_type": "code",
   "execution_count": null,
   "metadata": {},
   "outputs": [],
   "source": [
    "execution = pipeline.start()"
   ]
  }
 ],
 "metadata": {
  "kernelspec": {
   "display_name": "firstquest",
   "language": "python",
   "name": "python3"
  },
  "language_info": {
   "name": "python",
   "version": "3.7.11 (default, Jul 27 2021, 07:03:16) \n[Clang 10.0.0 ]"
  },
  "orig_nbformat": 4,
  "vscode": {
   "interpreter": {
    "hash": "749c84f4a809f649e97aa012e2672b6f502355d18aa25c26ceeed329a510c003"
   }
  }
 },
 "nbformat": 4,
 "nbformat_minor": 2
}
