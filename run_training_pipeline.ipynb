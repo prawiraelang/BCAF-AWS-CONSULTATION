{
 "cells": [
  {
   "cell_type": "code",
   "execution_count": null,
   "metadata": {},
   "outputs": [],
   "source": [
    "import boto3\n",
    "import sagemaker\n",
    "\n",
    "\n",
    "region = boto3.Session().region_name\n",
    "role = sagemaker.get_execution_role()\n",
    "\n",
    "pipeline_name = f\"GLAIR-BCAF-Consultation-Training\" # Change these to reflect your project/business name"
   ]
  },
  {
   "cell_type": "code",
   "execution_count": null,
   "metadata": {},
   "outputs": [],
   "source": [
    "from pipelines.CarPriceML_Training.pipeline import get_pipeline\n",
    "\n",
    "\n",
    "pipeline = get_pipeline(\n",
    "    region=region,\n",
    "    role=role,\n",
    "    pipeline_name=pipeline_name\n",
    ")"
   ]
  },
  {
   "cell_type": "code",
   "execution_count": null,
   "metadata": {},
   "outputs": [],
   "source": [
    "pipeline.upsert(role_arn=role)"
   ]
  },
  {
   "cell_type": "code",
   "execution_count": null,
   "metadata": {},
   "outputs": [],
   "source": [
    "s3_singapore = boto3.client(\"s3\", region_name=\"ap-southeast-1\")\n",
    "\n",
    "def get_latest_file(bucket_name, prefix_name):\n",
    "    s3_uri_response = s3_singapore.list_objects_v2(Bucket=bucket_name, Prefix=prefix_name)\n",
    "    latest_key = sorted(s3_uri_response.get(\"Contents\", []), key=lambda x: x[\"LastModified\"], reverse=True)[0][\"Key\"]\n",
    "\n",
    "    return f\"s3://{bucket_name}/{latest_key}\"\n",
    "    \n",
    "s3_uri_lelang = get_latest_file(\n",
    "    \"glair-exploration-sagemaker-s3-bucket-singapore\",\n",
    "    \"glair-bcaf-consultation-input/training/lelang\"\n",
    ")\n",
    "\n",
    "s3_uri_crawling = get_latest_file(\n",
    "    \"glair-exploration-sagemaker-s3-bucket-singapore\",\n",
    "    \"glair-bcaf-consultation-input/training/crawling\"\n",
    ")"
   ]
  },
  {
   "cell_type": "code",
   "execution_count": null,
   "metadata": {},
   "outputs": [],
   "source": [
    "sagemaker_virginia = boto3.client(\"sagemaker\", region_name=\"us-east-1\")\n",
    "\n",
    "def get_best_hyperparameter():\n",
    "    hpo_response = sagemaker_virginia.list_hyper_parameter_tuning_jobs(\n",
    "        SortBy='CreationTime',\n",
    "        SortOrder='Descending',\n",
    "        NameContains='Car',\n",
    "        StatusEquals='Completed'\n",
    "    )\n",
    "    \n",
    "    tuned_hyperparameter = sagemaker_virginia.describe_hyper_parameter_tuning_job(\n",
    "        HyperParameterTuningJobName=hpo_response['HyperParameterTuningJobSummaries'][0]['HyperParameterTuningJobName']\n",
    "    )\n",
    "    \n",
    "    return tuned_hyperparameter['BestTrainingJob']['TunedHyperParameters']\n",
    "\n",
    "hyperparameters = get_best_hyperparameter()"
   ]
  },
  {
   "cell_type": "code",
   "execution_count": null,
   "metadata": {},
   "outputs": [],
   "source": [
    "execution = pipeline.start(\n",
    "    parameters=dict(\n",
    "        ProcessingInstanceType=\"ml.m5.xlarge\",\n",
    "        ProcessingInstanceCount=\"1\",\n",
    "        TrainingInstanceType=\"ml.m5.xlarge\",\n",
    "        TrainingInstanceCount=\"1\",\n",
    "        InputDataLelangURI=s3_uri_lelang,\n",
    "        InputDataCrawlingURI=s3_uri_crawling,\n",
    "        MaxDepth=hyperparameters['max_depth'],\n",
    "        SubSample=hyperparameters['subsample'],\n",
    "        ColSampleByTree=hyperparameters['colsample_bytree'],\n",
    "        NumRound=hyperparameters['num_round'],\n",
    "        ETA=hyperparameters['eta'],\n",
    "        MinChildWeight=hyperparameters['min_child_weight'],\n",
    "        Gamma=hyperparameters['gamma']\n",
    "    )\n",
    ")"
   ]
  },
  {
   "cell_type": "code",
   "execution_count": null,
   "metadata": {},
   "outputs": [],
   "source": [
    "execution.describe()"
   ]
  },
  {
   "cell_type": "code",
   "execution_count": 7,
   "metadata": {},
   "outputs": [],
   "source": [
    "MODEL_TYPES = ['toyota', 'daihatsu']\n",
    "dict_model_types = {model_type: f'GLAIR-BCAF-Consultation-Training-{model_type.capitalize()}' for model_type in MODEL_TYPES}"
   ]
  },
  {
   "cell_type": "code",
   "execution_count": 10,
   "metadata": {},
   "outputs": [
    {
     "data": {
      "text/plain": [
       "'GLAIR-BCAF-Consultation-Training-Toyota'"
      ]
     },
     "execution_count": 10,
     "metadata": {},
     "output_type": "execute_result"
    }
   ],
   "source": [
    "model_type = 'toyota'\n",
    "dict_model_types[model_type]"
   ]
  },
  {
   "cell_type": "code",
   "execution_count": 5,
   "metadata": {},
   "outputs": [
    {
     "data": {
      "text/plain": [
       "'GLAIR-BCAF-Consultation-Training-some_key'"
      ]
     },
     "execution_count": 5,
     "metadata": {},
     "output_type": "execute_result"
    }
   ],
   "source": [
    "dict_model_types = {\n",
    "    'key1': 'value1',\n",
    "    'key2': 'value2',\n",
    "    'some_key': 'GLAIR-BCAF-Consultation-Training-some_key',\n",
    "}\n",
    "\n",
    "value = dict_model_types['some_key']\n",
    "value"
   ]
  },
  {
   "cell_type": "code",
   "execution_count": null,
   "metadata": {},
   "outputs": [],
   "source": []
  }
 ],
 "metadata": {
  "kernelspec": {
   "display_name": "firstquest",
   "language": "python",
   "name": "python3"
  },
  "language_info": {
   "codemirror_mode": {
    "name": "ipython",
    "version": 3
   },
   "file_extension": ".py",
   "mimetype": "text/x-python",
   "name": "python",
   "nbconvert_exporter": "python",
   "pygments_lexer": "ipython3",
   "version": "3.7.11"
  },
  "orig_nbformat": 4,
  "vscode": {
   "interpreter": {
    "hash": "749c84f4a809f649e97aa012e2672b6f502355d18aa25c26ceeed329a510c003"
   }
  }
 },
 "nbformat": 4,
 "nbformat_minor": 2
}
