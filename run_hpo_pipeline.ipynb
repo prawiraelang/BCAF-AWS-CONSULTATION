{
 "cells": [
  {
   "cell_type": "code",
   "execution_count": null,
   "metadata": {},
   "outputs": [],
   "source": [
    "import boto3\n",
    "import sagemaker\n",
    "\n",
    "region = boto3.Session().region_name\n",
    "role = sagemaker.get_execution_role()\n",
    "\n",
    "pipeline_name = f\"GLAIR-BCAF-Consultation-HPO\" # Change these to reflect your project/business name"
   ]
  },
  {
   "cell_type": "code",
   "execution_count": null,
   "metadata": {},
   "outputs": [],
   "source": [
    "from pipelines.CarPriceML_HPO.pipeline import get_pipeline\n",
    "\n",
    "\n",
    "pipeline = get_pipeline(\n",
    "    region=region,\n",
    "    role=role,\n",
    "    pipeline_name=pipeline_name\n",
    ")"
   ]
  },
  {
   "cell_type": "code",
   "execution_count": null,
   "metadata": {},
   "outputs": [],
   "source": [
    "pipeline.upsert(role_arn=role)"
   ]
  },
  {
   "cell_type": "code",
   "execution_count": null,
   "metadata": {},
   "outputs": [],
   "source": [
    "s3_singapore = boto3.client(\"s3\", region_name=\"ap-southeast-1\")\n",
    "\n",
    "def get_latest_file(bucket_name, prefix_name):\n",
    "    s3_uri_response = s3_singapore.list_objects_v2(Bucket=bucket_name, Prefix=prefix_name)\n",
    "    latest_key = sorted(s3_uri_response.get(\"Contents\", []), key=lambda x: x[\"LastModified\"], reverse=True)[0][\"Key\"]\n",
    "\n",
    "    return f\"s3://{bucket_name}/{latest_key}\"\n",
    "    \n",
    "s3_uri_lelang = get_latest_file(\n",
    "    \"glair-exploration-sagemaker-s3-bucket-singapore\",\n",
    "    \"glair-bcaf-consultation-input/training/lelang\"\n",
    ")\n",
    "\n",
    "s3_uri_crawling = get_latest_file(\n",
    "    \"glair-exploration-sagemaker-s3-bucket-singapore\",\n",
    "    \"glair-bcaf-consultation-input/training/crawling\"\n",
    ")"
   ]
  },
  {
   "cell_type": "code",
   "execution_count": null,
   "metadata": {},
   "outputs": [],
   "source": [
    "execution = pipeline.start(\n",
    "    parameters=dict(\n",
    "            ProcessingInstanceType=\"ml.m5.xlarge\",\n",
    "            ProcessingInstanceCount=\"1\",\n",
    "            TrainingInstanceType=\"ml.m5.xlarge\",\n",
    "            TrainingInstanceCount=\"1\",\n",
    "            InputDataLelangURI=s3_uri_lelang,\n",
    "            InputDataCrawlingURI=s3_uri_crawling,\n",
    "    )\n",
    ")"
   ]
  },
  {
   "cell_type": "code",
   "execution_count": null,
   "metadata": {},
   "outputs": [],
   "source": [
    "execution.describe()"
   ]
  }
 ],
 "metadata": {
  "kernelspec": {
   "display_name": "firstquest",
   "language": "python",
   "name": "python3"
  },
  "language_info": {
   "name": "python",
   "version": "3.7.11"
  },
  "orig_nbformat": 4,
  "vscode": {
   "interpreter": {
    "hash": "749c84f4a809f649e97aa012e2672b6f502355d18aa25c26ceeed329a510c003"
   }
  }
 },
 "nbformat": 4,
 "nbformat_minor": 2
}
